{
 "cells": [
  {
   "cell_type": "code",
   "execution_count": 1,
   "id": "77cd33db-686d-4141-9261-b8ac2987779f",
   "metadata": {},
   "outputs": [
    {
     "name": "stdout",
     "output_type": "stream",
     "text": [
      "SQLite is working! Version: 3.45.3\n"
     ]
    }
   ],
   "source": [
    "import sqlite3\n",
    "import pandas as pd\n",
    "\n",
    "# Create a database connection\n",
    "conn = sqlite3.connect(\":memory:\")  # Creates a temporary in-memory database\n",
    "cursor = conn.cursor()\n",
    "\n",
    "# Check if SQLite is working\n",
    "cursor.execute(\"SELECT sqlite_version();\")\n",
    "print(\"SQLite is working! Version:\", cursor.fetchone()[0])"
   ]
  },
  {
   "cell_type": "code",
   "execution_count": 2,
   "id": "ba939766-292f-415c-85ec-b575e99c14d1",
   "metadata": {},
   "outputs": [
    {
     "data": {
      "text/plain": [
       "<sqlite3.Cursor at 0x1204a426940>"
      ]
     },
     "execution_count": 2,
     "metadata": {},
     "output_type": "execute_result"
    }
   ],
   "source": [
    "# Create employees table\n",
    "cursor.execute('''\n",
    "CREATE TABLE employees (\n",
    "    id INTEGER PRIMARY KEY,\n",
    "    name TEXT,\n",
    "    salary INTEGER,\n",
    "    department TEXT\n",
    ");\n",
    "''')"
   ]
  },
  {
   "cell_type": "code",
   "execution_count": 3,
   "id": "da062d71-a42c-4a07-b236-28db8ec7d95e",
   "metadata": {},
   "outputs": [
    {
     "name": "stdout",
     "output_type": "stream",
     "text": [
      "Table created & data inserted successfully!\n"
     ]
    }
   ],
   "source": [
    "cursor.executemany('''\n",
    "INSERT INTO employees (name, salary, department) VALUES (?, ?, ?);\n",
    "''', [\n",
    "    ('Alice', 60000, 'HR'),\n",
    "    ('Bob', 50000, 'IT'),\n",
    "    ('Charlie', 55000, 'Finance'),\n",
    "    ('David', 75000, 'IT'),\n",
    "    ('Eva', 62000, 'HR'),\n",
    "    ('Frank', 70000, 'Finance'),\n",
    "    ('Grace', 80000, 'IT')\n",
    "])\n",
    "conn.commit()\n",
    "print(\"Table created & data inserted successfully!\")"
   ]
  },
  {
   "cell_type": "code",
   "execution_count": 4,
   "id": "ef9bc3ce-9913-46f8-aab0-112496fae30a",
   "metadata": {},
   "outputs": [
    {
     "data": {
      "text/plain": [
       "<sqlite3.Cursor at 0x1204a426940>"
      ]
     },
     "execution_count": 4,
     "metadata": {},
     "output_type": "execute_result"
    }
   ],
   "source": [
    "# Create departments table\n",
    "cursor.execute('''\n",
    "CREATE TABLE departments (\n",
    "    department TEXT PRIMARY KEY,\n",
    "    location TEXT\n",
    ");\n",
    "''')"
   ]
  },
  {
   "cell_type": "code",
   "execution_count": 5,
   "id": "39fcb08f-23ee-4a3d-905b-30fd35b87749",
   "metadata": {},
   "outputs": [
    {
     "name": "stdout",
     "output_type": "stream",
     "text": [
      "Departments table created & data inserted successfully!\n"
     ]
    }
   ],
   "source": [
    "# Insert department data\n",
    "cursor.executemany('''\n",
    "INSERT INTO departments (department, location) VALUES (?, ?);\n",
    "''', [\n",
    "    ('HR', 'New York'),\n",
    "    ('IT', 'San Francisco'),\n",
    "    ('Finance', 'Chicago'),\n",
    "    ('Marketing', 'Los Angeles')\n",
    "])\n",
    "\n",
    "conn.commit()\n",
    "print(\"Departments table created & data inserted successfully!\")"
   ]
  },
  {
   "cell_type": "code",
   "execution_count": 14,
   "id": "8cde716c-07b3-4444-a3f9-834721538cd9",
   "metadata": {},
   "outputs": [
    {
     "data": {
      "text/html": [
       "<div>\n",
       "<style scoped>\n",
       "    .dataframe tbody tr th:only-of-type {\n",
       "        vertical-align: middle;\n",
       "    }\n",
       "\n",
       "    .dataframe tbody tr th {\n",
       "        vertical-align: top;\n",
       "    }\n",
       "\n",
       "    .dataframe thead th {\n",
       "        text-align: right;\n",
       "    }\n",
       "</style>\n",
       "<table border=\"1\" class=\"dataframe\">\n",
       "  <thead>\n",
       "    <tr style=\"text-align: right;\">\n",
       "      <th></th>\n",
       "      <th>name</th>\n",
       "      <th>salary</th>\n",
       "      <th>department</th>\n",
       "    </tr>\n",
       "  </thead>\n",
       "  <tbody>\n",
       "    <tr>\n",
       "      <th>0</th>\n",
       "      <td>David</td>\n",
       "      <td>75000</td>\n",
       "      <td>IT</td>\n",
       "    </tr>\n",
       "    <tr>\n",
       "      <th>1</th>\n",
       "      <td>Frank</td>\n",
       "      <td>70000</td>\n",
       "      <td>Finance</td>\n",
       "    </tr>\n",
       "    <tr>\n",
       "      <th>2</th>\n",
       "      <td>Grace</td>\n",
       "      <td>80000</td>\n",
       "      <td>IT</td>\n",
       "    </tr>\n",
       "  </tbody>\n",
       "</table>\n",
       "</div>"
      ],
      "text/plain": [
       "    name  salary department\n",
       "0  David   75000         IT\n",
       "1  Frank   70000    Finance\n",
       "2  Grace   80000         IT"
      ]
     },
     "execution_count": 14,
     "metadata": {},
     "output_type": "execute_result"
    }
   ],
   "source": [
    "query = '''\n",
    "SELECT name, salary, department\n",
    "FROM employees\n",
    "WHERE salary > (SELECT AVG(Salary) from employees);\n",
    "'''\n",
    "df = pd.read_sql(query, conn)\n",
    "df\n"
   ]
  },
  {
   "cell_type": "code",
   "execution_count": 15,
   "id": "29d1f7d2-ea55-4e5a-bc4b-c95d7be676cb",
   "metadata": {},
   "outputs": [
    {
     "data": {
      "text/html": [
       "<div>\n",
       "<style scoped>\n",
       "    .dataframe tbody tr th:only-of-type {\n",
       "        vertical-align: middle;\n",
       "    }\n",
       "\n",
       "    .dataframe tbody tr th {\n",
       "        vertical-align: top;\n",
       "    }\n",
       "\n",
       "    .dataframe thead th {\n",
       "        text-align: right;\n",
       "    }\n",
       "</style>\n",
       "<table border=\"1\" class=\"dataframe\">\n",
       "  <thead>\n",
       "    <tr style=\"text-align: right;\">\n",
       "      <th></th>\n",
       "      <th>AVG(salary)</th>\n",
       "    </tr>\n",
       "  </thead>\n",
       "  <tbody>\n",
       "    <tr>\n",
       "      <th>0</th>\n",
       "      <td>62500.000000</td>\n",
       "    </tr>\n",
       "    <tr>\n",
       "      <th>1</th>\n",
       "      <td>61000.000000</td>\n",
       "    </tr>\n",
       "    <tr>\n",
       "      <th>2</th>\n",
       "      <td>68333.333333</td>\n",
       "    </tr>\n",
       "  </tbody>\n",
       "</table>\n",
       "</div>"
      ],
      "text/plain": [
       "    AVG(salary)\n",
       "0  62500.000000\n",
       "1  61000.000000\n",
       "2  68333.333333"
      ]
     },
     "execution_count": 15,
     "metadata": {},
     "output_type": "execute_result"
    }
   ],
   "source": [
    "query = '''\n",
    "SELECT AVG(salary) FROM employees GROUP BY department;\n",
    "'''\n",
    "df = pd.read_sql(query, conn)\n",
    "df"
   ]
  },
  {
   "cell_type": "code",
   "execution_count": 20,
   "id": "58a9c82a-71dc-4dc3-b295-55c720972142",
   "metadata": {},
   "outputs": [
    {
     "data": {
      "text/html": [
       "<div>\n",
       "<style scoped>\n",
       "    .dataframe tbody tr th:only-of-type {\n",
       "        vertical-align: middle;\n",
       "    }\n",
       "\n",
       "    .dataframe tbody tr th {\n",
       "        vertical-align: top;\n",
       "    }\n",
       "\n",
       "    .dataframe thead th {\n",
       "        text-align: right;\n",
       "    }\n",
       "</style>\n",
       "<table border=\"1\" class=\"dataframe\">\n",
       "  <thead>\n",
       "    <tr style=\"text-align: right;\">\n",
       "      <th></th>\n",
       "      <th>name</th>\n",
       "      <th>salary</th>\n",
       "      <th>department</th>\n",
       "      <th>Average_Department_Salary</th>\n",
       "    </tr>\n",
       "  </thead>\n",
       "  <tbody>\n",
       "    <tr>\n",
       "      <th>0</th>\n",
       "      <td>Alice</td>\n",
       "      <td>60000</td>\n",
       "      <td>HR</td>\n",
       "      <td>61000.000000</td>\n",
       "    </tr>\n",
       "    <tr>\n",
       "      <th>1</th>\n",
       "      <td>Bob</td>\n",
       "      <td>50000</td>\n",
       "      <td>IT</td>\n",
       "      <td>68333.333333</td>\n",
       "    </tr>\n",
       "    <tr>\n",
       "      <th>2</th>\n",
       "      <td>Charlie</td>\n",
       "      <td>55000</td>\n",
       "      <td>Finance</td>\n",
       "      <td>62500.000000</td>\n",
       "    </tr>\n",
       "    <tr>\n",
       "      <th>3</th>\n",
       "      <td>David</td>\n",
       "      <td>75000</td>\n",
       "      <td>IT</td>\n",
       "      <td>68333.333333</td>\n",
       "    </tr>\n",
       "    <tr>\n",
       "      <th>4</th>\n",
       "      <td>Eva</td>\n",
       "      <td>62000</td>\n",
       "      <td>HR</td>\n",
       "      <td>61000.000000</td>\n",
       "    </tr>\n",
       "    <tr>\n",
       "      <th>5</th>\n",
       "      <td>Frank</td>\n",
       "      <td>70000</td>\n",
       "      <td>Finance</td>\n",
       "      <td>62500.000000</td>\n",
       "    </tr>\n",
       "    <tr>\n",
       "      <th>6</th>\n",
       "      <td>Grace</td>\n",
       "      <td>80000</td>\n",
       "      <td>IT</td>\n",
       "      <td>68333.333333</td>\n",
       "    </tr>\n",
       "  </tbody>\n",
       "</table>\n",
       "</div>"
      ],
      "text/plain": [
       "      name  salary department  Average_Department_Salary\n",
       "0    Alice   60000         HR               61000.000000\n",
       "1      Bob   50000         IT               68333.333333\n",
       "2  Charlie   55000    Finance               62500.000000\n",
       "3    David   75000         IT               68333.333333\n",
       "4      Eva   62000         HR               61000.000000\n",
       "5    Frank   70000    Finance               62500.000000\n",
       "6    Grace   80000         IT               68333.333333"
      ]
     },
     "execution_count": 20,
     "metadata": {},
     "output_type": "execute_result"
    }
   ],
   "source": [
    "query = '''\n",
    "SELECT e.name, e.salary, e.department, d.avg_salary AS Average_Department_Salary\n",
    "FROM employees e\n",
    "JOIN (SELECT department, AVG(salary) AS avg_salary FROM employees GROUP BY department) d ON e.department=d.department;\n",
    "'''\n",
    "df = pd.read_sql(query, conn)\n",
    "df"
   ]
  },
  {
   "cell_type": "code",
   "execution_count": null,
   "id": "d6bef7b6-821c-4265-944e-27dfe94bd907",
   "metadata": {},
   "outputs": [],
   "source": []
  }
 ],
 "metadata": {
  "kernelspec": {
   "display_name": "Python 3 (ipykernel)",
   "language": "python",
   "name": "python3"
  },
  "language_info": {
   "codemirror_mode": {
    "name": "ipython",
    "version": 3
   },
   "file_extension": ".py",
   "mimetype": "text/x-python",
   "name": "python",
   "nbconvert_exporter": "python",
   "pygments_lexer": "ipython3",
   "version": "3.13.2"
  }
 },
 "nbformat": 4,
 "nbformat_minor": 5
}
