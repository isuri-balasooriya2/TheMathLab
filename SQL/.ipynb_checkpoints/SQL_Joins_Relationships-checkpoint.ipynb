{
 "cells": [
  {
   "cell_type": "code",
   "execution_count": 18,
   "id": "86cebea7-33df-4480-8f1e-f7b461dabfc0",
   "metadata": {},
   "outputs": [
    {
     "name": "stdout",
     "output_type": "stream",
     "text": [
      "SQLite is working! Version: 3.45.3\n"
     ]
    }
   ],
   "source": [
    "import sqlite3\n",
    "import pandas as pd\n",
    "\n",
    "# Create a database connection\n",
    "conn = sqlite3.connect(\":memory:\")  # Creates a temporary in-memory database\n",
    "cursor = conn.cursor()\n",
    "\n",
    "# Check if SQLite is working\n",
    "cursor.execute(\"SELECT sqlite_version();\")\n",
    "print(\"SQLite is working! Version:\", cursor.fetchone()[0])"
   ]
  },
  {
   "cell_type": "code",
   "execution_count": 19,
   "id": "663cbf1d-22f1-4427-90ae-bb986a44d0ed",
   "metadata": {},
   "outputs": [
    {
     "data": {
      "text/plain": [
       "<sqlite3.Cursor at 0x2344f8865c0>"
      ]
     },
     "execution_count": 19,
     "metadata": {},
     "output_type": "execute_result"
    }
   ],
   "source": [
    "# Create employees table\n",
    "cursor.execute('''\n",
    "CREATE TABLE employees (\n",
    "    id INTEGER PRIMARY KEY,\n",
    "    name TEXT,\n",
    "    salary INTEGER,\n",
    "    department TEXT\n",
    ");\n",
    "''')"
   ]
  },
  {
   "cell_type": "code",
   "execution_count": 20,
   "id": "ad50f5b6-e1ab-4f2d-95b4-186e9401ac4a",
   "metadata": {},
   "outputs": [
    {
     "name": "stdout",
     "output_type": "stream",
     "text": [
      "Table created & data inserted successfully!\n"
     ]
    }
   ],
   "source": [
    "cursor.executemany('''\n",
    "INSERT INTO employees (name, salary, department) VALUES (?, ?, ?);\n",
    "''', [\n",
    "    ('Alice', 60000, 'HR'),\n",
    "    ('Bob', 50000, 'IT'),\n",
    "    ('Charlie', 55000, 'Finance'),\n",
    "    ('David', 75000, 'IT'),\n",
    "    ('Eva', 62000, 'HR'),\n",
    "    ('Frank', 70000, 'Finance'),\n",
    "    ('Grace', 80000, 'IT')\n",
    "])\n",
    "conn.commit()\n",
    "print(\"Table created & data inserted successfully!\")"
   ]
  },
  {
   "cell_type": "code",
   "execution_count": 21,
   "id": "6a3d469f-1ec4-441b-aa0a-65840002217c",
   "metadata": {},
   "outputs": [
    {
     "data": {
      "text/plain": [
       "<sqlite3.Cursor at 0x2344f8865c0>"
      ]
     },
     "execution_count": 21,
     "metadata": {},
     "output_type": "execute_result"
    }
   ],
   "source": [
    "# Create departments table\n",
    "cursor.execute('''\n",
    "CREATE TABLE departments (\n",
    "    department TEXT PRIMARY KEY,\n",
    "    location TEXT\n",
    ");\n",
    "''')"
   ]
  },
  {
   "cell_type": "code",
   "execution_count": 22,
   "id": "4a5d9090-fa98-49be-a20e-e7a81433e7b2",
   "metadata": {},
   "outputs": [
    {
     "name": "stdout",
     "output_type": "stream",
     "text": [
      "Departments table created & data inserted successfully!\n"
     ]
    }
   ],
   "source": [
    "# Insert department data\n",
    "cursor.executemany('''\n",
    "INSERT INTO departments (department, location) VALUES (?, ?);\n",
    "''', [\n",
    "    ('HR', 'New York'),\n",
    "    ('IT', 'San Francisco'),\n",
    "    ('Finance', 'Chicago'),\n",
    "    ('Marketing', 'Los Angeles')\n",
    "])\n",
    "\n",
    "conn.commit()\n",
    "print(\"Departments table created & data inserted successfully!\")"
   ]
  },
  {
   "cell_type": "code",
   "execution_count": 23,
   "id": "ab76e890-4940-4752-9466-95350a2437e3",
   "metadata": {},
   "outputs": [
    {
     "data": {
      "text/html": [
       "<div>\n",
       "<style scoped>\n",
       "    .dataframe tbody tr th:only-of-type {\n",
       "        vertical-align: middle;\n",
       "    }\n",
       "\n",
       "    .dataframe tbody tr th {\n",
       "        vertical-align: top;\n",
       "    }\n",
       "\n",
       "    .dataframe thead th {\n",
       "        text-align: right;\n",
       "    }\n",
       "</style>\n",
       "<table border=\"1\" class=\"dataframe\">\n",
       "  <thead>\n",
       "    <tr style=\"text-align: right;\">\n",
       "      <th></th>\n",
       "      <th>name</th>\n",
       "      <th>salary</th>\n",
       "      <th>department</th>\n",
       "      <th>location</th>\n",
       "    </tr>\n",
       "  </thead>\n",
       "  <tbody>\n",
       "    <tr>\n",
       "      <th>0</th>\n",
       "      <td>Alice</td>\n",
       "      <td>60000</td>\n",
       "      <td>HR</td>\n",
       "      <td>New York</td>\n",
       "    </tr>\n",
       "    <tr>\n",
       "      <th>1</th>\n",
       "      <td>Bob</td>\n",
       "      <td>50000</td>\n",
       "      <td>IT</td>\n",
       "      <td>San Francisco</td>\n",
       "    </tr>\n",
       "    <tr>\n",
       "      <th>2</th>\n",
       "      <td>Charlie</td>\n",
       "      <td>55000</td>\n",
       "      <td>Finance</td>\n",
       "      <td>Chicago</td>\n",
       "    </tr>\n",
       "    <tr>\n",
       "      <th>3</th>\n",
       "      <td>David</td>\n",
       "      <td>75000</td>\n",
       "      <td>IT</td>\n",
       "      <td>San Francisco</td>\n",
       "    </tr>\n",
       "    <tr>\n",
       "      <th>4</th>\n",
       "      <td>Eva</td>\n",
       "      <td>62000</td>\n",
       "      <td>HR</td>\n",
       "      <td>New York</td>\n",
       "    </tr>\n",
       "    <tr>\n",
       "      <th>5</th>\n",
       "      <td>Frank</td>\n",
       "      <td>70000</td>\n",
       "      <td>Finance</td>\n",
       "      <td>Chicago</td>\n",
       "    </tr>\n",
       "    <tr>\n",
       "      <th>6</th>\n",
       "      <td>Grace</td>\n",
       "      <td>80000</td>\n",
       "      <td>IT</td>\n",
       "      <td>San Francisco</td>\n",
       "    </tr>\n",
       "  </tbody>\n",
       "</table>\n",
       "</div>"
      ],
      "text/plain": [
       "      name  salary department       location\n",
       "0    Alice   60000         HR       New York\n",
       "1      Bob   50000         IT  San Francisco\n",
       "2  Charlie   55000    Finance        Chicago\n",
       "3    David   75000         IT  San Francisco\n",
       "4      Eva   62000         HR       New York\n",
       "5    Frank   70000    Finance        Chicago\n",
       "6    Grace   80000         IT  San Francisco"
      ]
     },
     "execution_count": 23,
     "metadata": {},
     "output_type": "execute_result"
    }
   ],
   "source": [
    "query = '''\n",
    "SELECT employees.name, employees.salary, departments.department, departments.location \n",
    "FROM employees\n",
    "INNER JOIN departments ON employees.department = departments.department;\n",
    "'''\n",
    "df = pd.read_sql(query,conn)\n",
    "df"
   ]
  },
  {
   "cell_type": "code",
   "execution_count": 25,
   "id": "9737c2f6-963f-4060-b867-3d6e4f30e02e",
   "metadata": {},
   "outputs": [
    {
     "data": {
      "text/html": [
       "<div>\n",
       "<style scoped>\n",
       "    .dataframe tbody tr th:only-of-type {\n",
       "        vertical-align: middle;\n",
       "    }\n",
       "\n",
       "    .dataframe tbody tr th {\n",
       "        vertical-align: top;\n",
       "    }\n",
       "\n",
       "    .dataframe thead th {\n",
       "        text-align: right;\n",
       "    }\n",
       "</style>\n",
       "<table border=\"1\" class=\"dataframe\">\n",
       "  <thead>\n",
       "    <tr style=\"text-align: right;\">\n",
       "      <th></th>\n",
       "      <th>id</th>\n",
       "      <th>name</th>\n",
       "      <th>salary</th>\n",
       "      <th>department</th>\n",
       "    </tr>\n",
       "  </thead>\n",
       "  <tbody>\n",
       "    <tr>\n",
       "      <th>0</th>\n",
       "      <td>1</td>\n",
       "      <td>Alice</td>\n",
       "      <td>60000</td>\n",
       "      <td>HR</td>\n",
       "    </tr>\n",
       "    <tr>\n",
       "      <th>1</th>\n",
       "      <td>2</td>\n",
       "      <td>Bob</td>\n",
       "      <td>50000</td>\n",
       "      <td>IT</td>\n",
       "    </tr>\n",
       "    <tr>\n",
       "      <th>2</th>\n",
       "      <td>3</td>\n",
       "      <td>Charlie</td>\n",
       "      <td>55000</td>\n",
       "      <td>Finance</td>\n",
       "    </tr>\n",
       "    <tr>\n",
       "      <th>3</th>\n",
       "      <td>4</td>\n",
       "      <td>David</td>\n",
       "      <td>75000</td>\n",
       "      <td>IT</td>\n",
       "    </tr>\n",
       "    <tr>\n",
       "      <th>4</th>\n",
       "      <td>5</td>\n",
       "      <td>Eva</td>\n",
       "      <td>62000</td>\n",
       "      <td>HR</td>\n",
       "    </tr>\n",
       "    <tr>\n",
       "      <th>5</th>\n",
       "      <td>6</td>\n",
       "      <td>Frank</td>\n",
       "      <td>70000</td>\n",
       "      <td>Finance</td>\n",
       "    </tr>\n",
       "    <tr>\n",
       "      <th>6</th>\n",
       "      <td>7</td>\n",
       "      <td>Grace</td>\n",
       "      <td>80000</td>\n",
       "      <td>IT</td>\n",
       "    </tr>\n",
       "  </tbody>\n",
       "</table>\n",
       "</div>"
      ],
      "text/plain": [
       "   id     name  salary department\n",
       "0   1    Alice   60000         HR\n",
       "1   2      Bob   50000         IT\n",
       "2   3  Charlie   55000    Finance\n",
       "3   4    David   75000         IT\n",
       "4   5      Eva   62000         HR\n",
       "5   6    Frank   70000    Finance\n",
       "6   7    Grace   80000         IT"
      ]
     },
     "execution_count": 25,
     "metadata": {},
     "output_type": "execute_result"
    }
   ],
   "source": [
    "query = '''\n",
    "SELECT * from employees;\n",
    "'''\n",
    "df = pd.read_sql(query,conn)\n",
    "df"
   ]
  },
  {
   "cell_type": "code",
   "execution_count": 27,
   "id": "fd576496-9ba4-43a7-9f1a-62dc9240b78d",
   "metadata": {},
   "outputs": [
    {
     "name": "stdout",
     "output_type": "stream",
     "text": [
      "Record Updated Successfully!\n"
     ]
    }
   ],
   "source": [
    "query = '''\n",
    "UPDATE employees SET department = 'HR' WHERE name ='Charlie';\n",
    "'''\n",
    "cursor.execute(query)\n",
    "conn.commit()  # Save changes\n",
    "print(\"Record Updated Successfully!\")"
   ]
  },
  {
   "cell_type": "code",
   "execution_count": 28,
   "id": "214cb5ef-2204-46f1-8f9e-2d8837aca558",
   "metadata": {},
   "outputs": [
    {
     "name": "stdout",
     "output_type": "stream",
     "text": [
      "Record Deleted Successfully!\n"
     ]
    }
   ],
   "source": [
    "query = '''\n",
    "DELETE from  employees WHERE name ='Charlie';\n",
    "'''\n",
    "cursor.execute(query)\n",
    "conn.commit()  \n",
    "print(\"Record Deleted Successfully!\")"
   ]
  },
  {
   "cell_type": "code",
   "execution_count": null,
   "id": "9ad53a06-130e-41c7-a790-efdaabf0dd38",
   "metadata": {},
   "outputs": [],
   "source": []
  },
  {
   "cell_type": "code",
   "execution_count": null,
   "id": "06bf51a4-2b0b-4d36-809f-eabb50fd2d23",
   "metadata": {},
   "outputs": [],
   "source": []
  }
 ],
 "metadata": {
  "kernelspec": {
   "display_name": "Python 3 (ipykernel)",
   "language": "python",
   "name": "python3"
  },
  "language_info": {
   "codemirror_mode": {
    "name": "ipython",
    "version": 3
   },
   "file_extension": ".py",
   "mimetype": "text/x-python",
   "name": "python",
   "nbconvert_exporter": "python",
   "pygments_lexer": "ipython3",
   "version": "3.13.2"
  }
 },
 "nbformat": 4,
 "nbformat_minor": 5
}
