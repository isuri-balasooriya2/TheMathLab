{
 "cells": [
  {
   "cell_type": "markdown",
   "id": "bf507b16-93f6-4fdf-b194-f9bafbb7bbce",
   "metadata": {},
   "source": [
    "# 🚀 GitHub Setup Guide  \n",
    "\n",
    "This guide will walk you through setting up GitHub, installing Git, and managing repositories.  \n"
   ]
  },
  {
   "cell_type": "markdown",
   "id": "0009e886-7fea-4b5f-98ca-762d882de851",
   "metadata": {},
   "source": [
    "## 1. Creating a GitHub Account  \n",
    "1. Go to [GitHub.com](https://github.com/) and sign up.  \n",
    "2. Verify your email and log in.  \n"
   ]
  },
  {
   "cell_type": "markdown",
   "id": "15e276bd-efa3-4283-8019-df78cbd3b455",
   "metadata": {},
   "source": [
    "## 2. Installing Git  \n",
    "Download Git from [git-scm.com](https://git-scm.com/downloads) and install it.  \n",
    "\n",
    "### ✅ Check if Git is Installed  \n",
    "Run the following command in your terminal:\n"
   ]
  },
  {
   "cell_type": "code",
   "execution_count": null,
   "id": "b627992a-9a52-42a4-bba7-4399c5651f6a",
   "metadata": {},
   "outputs": [],
   "source": [
    "git --version\n"
   ]
  },
  {
   "cell_type": "markdown",
   "id": "6bc3b1d3-23cc-46f1-aaa8-b215bb60036f",
   "metadata": {},
   "source": [
    "Run the following commands (This is only required once)"
   ]
  },
  {
   "cell_type": "code",
   "execution_count": null,
   "id": "7bab7bb9-2bd8-4a99-af97-2f7a32beca94",
   "metadata": {},
   "outputs": [],
   "source": [
    "git config --global user.name \"your username\"\n",
    "git config --global user.email \"Your email\""
   ]
  },
  {
   "cell_type": "code",
   "execution_count": null,
   "id": "c293e4f2-7846-4bfa-98a1-fbec27ab3e29",
   "metadata": {},
   "outputs": [],
   "source": [
    "Then navigate to the directory where you want to store your work"
   ]
  },
  {
   "cell_type": "markdown",
   "id": "84c09d90-3dc3-4b09-829b-f402ae7b5fec",
   "metadata": {},
   "source": [
    "## 3. Creating a GitHub Repository  \n",
    "1. Click **\"New Repository\"** on GitHub.  \n",
    "2. Name it (e.g., `TheMathLab`).  \n",
    "3. Click **\"Create Repository\"**.  \n",
    "\n",
    "### ✅ Cloning the Repository  \n",
    "Run this in your terminal:\n"
   ]
  },
  {
   "cell_type": "code",
   "execution_count": null,
   "id": "186ec4cf-7465-44c0-aa74-fbb6861d85bc",
   "metadata": {},
   "outputs": [],
   "source": [
    "git clone https://github.com/YourUsername/TheMathLab.git\n",
    "cd TheMathLab"
   ]
  },
  {
   "cell_type": "markdown",
   "id": "f5c9b9b8-068a-4734-a2ab-137eacad4f5a",
   "metadata": {},
   "source": [
    "## 4. Adding and Pushing Files to GitHub  \n",
    "To add and push a file, use these commands:\n"
   ]
  },
  {
   "cell_type": "code",
   "execution_count": null,
   "id": "52d4c2de-21a9-426b-afca-f6859afb1296",
   "metadata": {},
   "outputs": [],
   "source": [
    "echo \"Hello, GitHub!\" > hello.txt\n",
    "git add hello.txt\n",
    "git commit -m \"Added hello.txt\"\n",
    "git push origin main\n"
   ]
  },
  {
   "cell_type": "markdown",
   "id": "74c4d344-178c-4e54-b26e-dde4fdf7887f",
   "metadata": {},
   "source": [
    "If you go to your directory, you will see a text file called hello.txt created with the content \"Hello, GitHub!\"\n",
    "\n",
    "Also, if your go to your repository in GitHub you will see the same file in the main branch."
   ]
  }
 ],
 "metadata": {
  "kernelspec": {
   "display_name": "Python 3 (ipykernel)",
   "language": "python",
   "name": "python3"
  },
  "language_info": {
   "codemirror_mode": {
    "name": "ipython",
    "version": 3
   },
   "file_extension": ".py",
   "mimetype": "text/x-python",
   "name": "python",
   "nbconvert_exporter": "python",
   "pygments_lexer": "ipython3",
   "version": "3.13.2"
  }
 },
 "nbformat": 4,
 "nbformat_minor": 5
}
