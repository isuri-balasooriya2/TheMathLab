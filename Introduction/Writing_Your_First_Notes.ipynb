{
 "cells": [
  {
   "cell_type": "markdown",
   "id": "fea78bf3-daca-4a6e-8670-4f0bb008d95a",
   "metadata": {},
   "source": [
    "# 📝 How to Write Your Own Notes using Jupyter & Google Colab\n",
    "\n",
    "In this guide, you'll learn how to create, save, and push notes to GitHub using,\n",
    "1. **Jupyter Notebook (Installed on PC)**\n",
    "2. **Google Colab (Online, No Installation Needed)**"
   ]
  },
  {
   "cell_type": "markdown",
   "id": "b21c2b62-072d-4029-9d6c-20cf0dceefe4",
   "metadata": {},
   "source": [
    "# 📌 Part 1: Jupyter Notebook"
   ]
  },
  {
   "cell_type": "markdown",
   "id": "fcc43a65-d99e-46be-af90-af0002b7cfbe",
   "metadata": {},
   "source": [
    "## 1️⃣ Installing Python & Jupyter Notebook\n",
    "Before using Jupyter Notebook, you need to install Python and Jupyter.\n",
    "\n",
    "### ✅ Step 1: Install Python\n",
    "Download Python from [python.org](https://www.python.org/downloads/) and install it.\n",
    "\n",
    "### ✅ Step 2: Install Jupyter Notebook\n",
    "Once Python is installed, open the terminal and run:\n"
   ]
  },
  {
   "cell_type": "code",
   "execution_count": null,
   "id": "6026a42c-670f-49db-93de-6eb5c154bd50",
   "metadata": {},
   "outputs": [],
   "source": [
    "pip install notebook"
   ]
  },
  {
   "cell_type": "markdown",
   "id": "d5a90e8e-340c-4f05-ae58-9c7ea7f927ee",
   "metadata": {},
   "source": [
    "## 2️⃣ Creating Your First Jupyter Notebook\n",
    "\n",
    "To open Jupyter Notebook, run:\n"
   ]
  },
  {
   "cell_type": "code",
   "execution_count": null,
   "id": "6063adc7-5a9d-4bea-a563-773a96d7306c",
   "metadata": {},
   "outputs": [],
   "source": [
    "jupyter notebook\n"
   ]
  },
  {
   "cell_type": "markdown",
   "id": "ce3c87b8-46b8-4d1c-a251-26032fee7db3",
   "metadata": {},
   "source": [
    "1. Click **New → Python 3 Notebook**.\n",
    "2. Rename it to **MyNotes.ipynb**.\n",
    "3. Use **Markdown cells** for writing text and **Code cells** for calculations.\n"
   ]
  },
  {
   "cell_type": "markdown",
   "id": "bd1b16a4-d453-4fa3-a7e2-947ed12a2364",
   "metadata": {},
   "source": [
    "Example:\n",
    "\n",
    "# My Math Notes\n",
    "## Topic: Algebra\n",
    "- Linear Equations: `2x + 3 = 7`\n",
    "- Quadratic Equations: `x^2 - 4x + 4 = 0`\n"
   ]
  },
  {
   "cell_type": "markdown",
   "id": "e0e64236-bf60-4caa-9124-3d2020ff2cd2",
   "metadata": {},
   "source": [
    "## 3️⃣ How to Push Your Notes to GitHub\n",
    "\n",
    "There are **two ways** to upload your Jupyter Notebook to GitHub:\n",
    "1. Using **Git Command Line (CLI)**\n",
    "2. Using **GitHub Desktop**\n"
   ]
  },
  {
   "cell_type": "markdown",
   "id": "fe8e2024-dc1f-4144-a18d-ae58bbb35425",
   "metadata": {},
   "source": [
    "👉 Using Git CLI "
   ]
  },
  {
   "cell_type": "code",
   "execution_count": null,
   "id": "b011993a-b503-4d84-b910-9fe8d2442c86",
   "metadata": {},
   "outputs": [],
   "source": [
    "git add MyNotes.ipynb\n",
    "git commit -m \"Added Jupyter Notebook notes\"\n",
    "git push origin main\n"
   ]
  },
  {
   "cell_type": "markdown",
   "id": "16acfe6f-e294-4030-853b-d3921ea22a49",
   "metadata": {},
   "source": [
    "👉 Using GitHub Desktop"
   ]
  },
  {
   "cell_type": "markdown",
   "id": "06338ae0-1ed0-43b0-8f42-59fa9b43ad97",
   "metadata": {},
   "source": [
    "1. Open **GitHub Desktop** and select your repository.\n",
    "2. Click **Commit to main** → Then **Push to GitHub**."
   ]
  },
  {
   "cell_type": "markdown",
   "id": "8c04b61b-fb84-4de1-a67f-b87c8db69677",
   "metadata": {},
   "source": [
    "![image.png](Jupyter.png)"
   ]
  },
  {
   "cell_type": "markdown",
   "id": "6889fe40-245c-40e4-a200-acd8d6bc4a7d",
   "metadata": {},
   "source": [
    "# 📌 Part 2: Google Colab"
   ]
  },
  {
   "cell_type": "markdown",
   "id": "17f1cff7-6bca-4bc6-b0b1-448142255ef4",
   "metadata": {},
   "source": [
    "Google Colab is an **online** alternative to Jupyter Notebook that requires **no installation**.\n",
    "\n",
    "## ✅ Steps to Use Google Colab\n",
    "1. Go to [Google Colab](https://colab.research.google.com/).\n",
    "2. Click **File → New Notebook**.\n",
    "3. Rename it and start writing your notes.\n",
    "\n",
    "## ✅ Saving Google Colab Notes to GitHub\n",
    "To push a notebook from **Google Colab** to GitHub:\n",
    "1. Click **File → Save a copy in GitHub**.\n",
    "2. Select the repo and add a commit message.\n",
    "3. Click **OK**, and it will be uploaded!\n"
   ]
  },
  {
   "attachments": {},
   "cell_type": "markdown",
   "id": "aacbfd52-14a0-4b66-9821-4eda35c5f350",
   "metadata": {},
   "source": [
    "![image.png](Colab.png)"
   ]
  }
 ],
 "metadata": {
  "kernelspec": {
   "display_name": "Python 3 (ipykernel)",
   "language": "python",
   "name": "python3"
  },
  "language_info": {
   "codemirror_mode": {
    "name": "ipython",
    "version": 3
   },
   "file_extension": ".py",
   "mimetype": "text/x-python",
   "name": "python",
   "nbconvert_exporter": "python",
   "pygments_lexer": "ipython3",
   "version": "3.13.2"
  }
 },
 "nbformat": 4,
 "nbformat_minor": 5
}
