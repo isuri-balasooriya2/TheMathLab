{
 "cells": [
  {
   "cell_type": "code",
   "execution_count": 6,
   "id": "15016978-bbb0-464b-a69a-9c7154dedc6a",
   "metadata": {},
   "outputs": [],
   "source": [
    "class Student:\n",
    "    def __init__(self,Student_ID, Name, Age, Average_GPA):\n",
    "        self.Student_ID = Student_ID # Unique ID\n",
    "        self.Name = Name\n",
    "        self.Age = Age\n",
    "        self.Average_GPA = Average_GPA\n",
    "\n",
    "    def get_details(self):\n",
    "        return f\"{self.Student_ID},{self.Name},{self.Age},{self.Average_GPA}\"\n"
   ]
  },
  {
   "cell_type": "code",
   "execution_count": 9,
   "id": "098a35d0-18f7-4f7b-85b2-744c1cab4233",
   "metadata": {},
   "outputs": [],
   "source": [
    "import os\n",
    "\n",
    "class StudentManager:\n",
    "    FILE_NAME = \"students.txt\"  # File for storing student data\n",
    "\n",
    "    def __init__(self):\n",
    "        self.students = []  # List to store student objects\n",
    "        self.load_students()  # Load existing data at start\n",
    "\n",
    "    def add_student(self, student):\n",
    "        self.students.append(student)\n",
    "        self.save_students()\n",
    "\n",
    "    def view_students(self):\n",
    "        if not self.students:\n",
    "            print(\"No students found.\")\n",
    "            return\n",
    "        for student in self.students:\n",
    "            print(f\"ID: {student.Student_ID}, Name: {student.Name}, Age: {student.Age}, Average GPA: {student.Average_GPA}\")\n",
    "\n",
    "    def search_student(self, student_id):\n",
    "        for student in self.students:\n",
    "            if student.Student_ID == student_id:\n",
    "                print(f\"Found: {student.Name}, Age: {student.Age}, Average GPA: {student.Average_GPA}\")\n",
    "                return\n",
    "        print(\"Student not found.\")\n",
    "\n",
    "    def save_students(self):\n",
    "        \"\"\"Save all students to a file.\"\"\"\n",
    "        try:\n",
    "            with open(self.FILE_NAME, \"w\") as file:\n",
    "                for student in self.students:\n",
    "                    file.write(student.get_details() + \"\\n\")\n",
    "        except Exception as e:\n",
    "            print(\"Error saving student data:\", e)\n",
    "\n",
    "    def load_students(self):\n",
    "        \"\"\"Load students from file if exists.\"\"\"\n",
    "        if not os.path.exists(self.FILE_NAME):\n",
    "            return\n",
    "        try:\n",
    "            with open(self.FILE_NAME, \"r\") as file:\n",
    "                for line in file:\n",
    "                    student_id, name, age, grade = line.strip().split(\",\")\n",
    "                    self.students.append(Student(student_id, name, int(age), grade))\n",
    "        except Exception as e:\n",
    "            print(\"Error loading student data:\", e)"
   ]
  },
  {
   "cell_type": "code",
   "execution_count": null,
   "id": "bb63451f-31bc-4be9-8f6e-1563e0b45834",
   "metadata": {},
   "outputs": [],
   "source": []
  },
  {
   "cell_type": "code",
   "execution_count": 11,
   "id": "f9801bb2-1c83-42d4-97c6-716cd7860574",
   "metadata": {},
   "outputs": [
    {
     "name": "stdout",
     "output_type": "stream",
     "text": [
      "\n",
      "Student Management System\n",
      "1. Add Student\n",
      "2. View All Students\n",
      "3. Search Student by ID\n",
      "4. Exit\n"
     ]
    },
    {
     "name": "stdin",
     "output_type": "stream",
     "text": [
      "Enter choice:  1\n",
      "Enter Student ID:  002\n",
      "Enter Name:  George Russell\n",
      "Enter Age:  27\n",
      "Enter Grade:  3.5\n"
     ]
    },
    {
     "name": "stdout",
     "output_type": "stream",
     "text": [
      "Student added successfully!\n",
      "\n",
      "Student Management System\n",
      "1. Add Student\n",
      "2. View All Students\n",
      "3. Search Student by ID\n",
      "4. Exit\n"
     ]
    },
    {
     "name": "stdin",
     "output_type": "stream",
     "text": [
      "Enter choice:  2\n"
     ]
    },
    {
     "name": "stdout",
     "output_type": "stream",
     "text": [
      "ID: 001, Name: Lando Norris, Age: 26, Average GPA: 3.4\n",
      "ID: 002, Name: George Russell, Age: 27, Average GPA: 3.5\n",
      "\n",
      "Student Management System\n",
      "1. Add Student\n",
      "2. View All Students\n",
      "3. Search Student by ID\n",
      "4. Exit\n"
     ]
    },
    {
     "name": "stdin",
     "output_type": "stream",
     "text": [
      "Enter choice:  3\n",
      "Enter Student ID to search:  001\n"
     ]
    },
    {
     "name": "stdout",
     "output_type": "stream",
     "text": [
      "Found: Lando Norris, Age: 26, Average GPA: 3.4\n",
      "\n",
      "Student Management System\n",
      "1. Add Student\n",
      "2. View All Students\n",
      "3. Search Student by ID\n",
      "4. Exit\n"
     ]
    },
    {
     "name": "stdin",
     "output_type": "stream",
     "text": [
      "Enter choice:  4\n"
     ]
    },
    {
     "name": "stdout",
     "output_type": "stream",
     "text": [
      "Exiting...\n"
     ]
    }
   ],
   "source": [
    "def main():\n",
    "    manager = StudentManager()\n",
    "\n",
    "    while True:\n",
    "        print(\"\\nStudent Management System\")\n",
    "        print(\"1. Add Student\")\n",
    "        print(\"2. View All Students\")\n",
    "        print(\"3. Search Student by ID\")\n",
    "        print(\"4. Exit\")\n",
    "        \n",
    "        choice = input(\"Enter choice: \")\n",
    "\n",
    "        if choice == \"1\":\n",
    "            student_id = input(\"Enter Student ID: \")\n",
    "            name = input(\"Enter Name: \")\n",
    "            try:\n",
    "                age = int(input(\"Enter Age: \"))  # Ensuring age is a valid number\n",
    "            except ValueError:\n",
    "                print(\"Invalid age. Please enter a number.\")\n",
    "                continue\n",
    "            grade = input(\"Enter Grade: \")\n",
    "\n",
    "            student = Student(student_id, name, age, grade)\n",
    "            manager.add_student(student)\n",
    "            print(\"Student added successfully!\")\n",
    "\n",
    "        elif choice == \"2\":\n",
    "            manager.view_students()\n",
    "\n",
    "        elif choice == \"3\":\n",
    "            student_id = input(\"Enter Student ID to search: \")\n",
    "            manager.search_student(student_id)\n",
    "\n",
    "        elif choice == \"4\":\n",
    "            print(\"Exiting...\")\n",
    "            break\n",
    "        else:\n",
    "            print(\"Invalid choice! Please enter a number between 1-4.\")\n",
    "\n",
    "if __name__ == \"__main__\":\n",
    "    main()\n"
   ]
  },
  {
   "cell_type": "code",
   "execution_count": null,
   "id": "6b48357a-ac40-4b1e-969e-6e6d16771509",
   "metadata": {},
   "outputs": [],
   "source": []
  }
 ],
 "metadata": {
  "kernelspec": {
   "display_name": "Python 3 (ipykernel)",
   "language": "python",
   "name": "python3"
  },
  "language_info": {
   "codemirror_mode": {
    "name": "ipython",
    "version": 3
   },
   "file_extension": ".py",
   "mimetype": "text/x-python",
   "name": "python",
   "nbconvert_exporter": "python",
   "pygments_lexer": "ipython3",
   "version": "3.13.2"
  }
 },
 "nbformat": 4,
 "nbformat_minor": 5
}
