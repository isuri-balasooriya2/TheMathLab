{
 "cells": [
  {
   "cell_type": "code",
   "execution_count": 1,
   "id": "b7a46f25-2097-4ee9-943f-551684d2971b",
   "metadata": {},
   "outputs": [
    {
     "name": "stdout",
     "output_type": "stream",
     "text": [
      "['Apple', 'Banana', 'Cherry']\n"
     ]
    }
   ],
   "source": [
    "fruits = [\"Apple\", \"Banana\", \"Cherry\"]\n",
    "print(fruits)"
   ]
  },
  {
   "cell_type": "code",
   "execution_count": 2,
   "id": "a82c3913-86a2-43a8-b36e-682238cd9f83",
   "metadata": {},
   "outputs": [
    {
     "name": "stdout",
     "output_type": "stream",
     "text": [
      "['Apple', 'Banana', 'Cherry', 'Orange']\n",
      "['Apple', 'Cherry', 'Orange']\n",
      "3\n",
      "Apple\n"
     ]
    }
   ],
   "source": [
    "fruits.append(\"Orange\") #Add an element\n",
    "print(fruits)\n",
    "fruits.remove(\"Banana\") #Remove element\n",
    "print(fruits)\n",
    "print(len(fruits)) #get length of the list\n",
    "print(fruits[0])"
   ]
  },
  {
   "cell_type": "code",
   "execution_count": 4,
   "id": "3c7d4f1c-d10d-4e9d-9f96-05b64a598b1b",
   "metadata": {},
   "outputs": [
    {
     "name": "stdout",
     "output_type": "stream",
     "text": [
      "Isuri\n",
      "{'name': 'Isuri', 'age': 32, 'course': 'Data Analytics', 'city': 'Paris'}\n"
     ]
    }
   ],
   "source": [
    "student = {\"name\": \"Isuri\", \"age\": 31, \"course\": \"Data Analytics\"}\n",
    "print(student[\"name\"])  # Output: Isuri\n",
    "student[\"age\"] = 32  # Update value\n",
    "student[\"city\"] = \"Paris\"  # Add new key-value pair\n",
    "print(student)"
   ]
  },
  {
   "cell_type": "code",
   "execution_count": null,
   "id": "27840df3-1ae5-4076-a94e-30c5ab8f1ef5",
   "metadata": {},
   "outputs": [],
   "source": []
  }
 ],
 "metadata": {
  "kernelspec": {
   "display_name": "Python 3 (ipykernel)",
   "language": "python",
   "name": "python3"
  },
  "language_info": {
   "codemirror_mode": {
    "name": "ipython",
    "version": 3
   },
   "file_extension": ".py",
   "mimetype": "text/x-python",
   "name": "python",
   "nbconvert_exporter": "python",
   "pygments_lexer": "ipython3",
   "version": "3.13.2"
  }
 },
 "nbformat": 4,
 "nbformat_minor": 5
}
