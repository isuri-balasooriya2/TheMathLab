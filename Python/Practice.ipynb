{
 "cells": [
  {
   "cell_type": "code",
   "execution_count": 8,
   "id": "b354d0e4-637c-45c9-ba9a-308874fe3088",
   "metadata": {},
   "outputs": [
    {
     "data": {
      "text/plain": [
       "'Odd Number'"
      ]
     },
     "execution_count": 8,
     "metadata": {},
     "output_type": "execute_result"
    }
   ],
   "source": [
    "def Check_Number(num):\n",
    "    if num % 2 == 0:\n",
    "        return(\"Even Number\")\n",
    "    else:\n",
    "        return(\"Odd Number\")\n",
    "\n",
    "\n",
    "Check_Number(49)"
   ]
  },
  {
   "cell_type": "code",
   "execution_count": 10,
   "id": "c8dfc74e-ea8d-4fad-88bc-1306afcf6c01",
   "metadata": {},
   "outputs": [
    {
     "name": "stdout",
     "output_type": "stream",
     "text": [
      "['Intersetllar', 'Harry Potter', 'Lord of the Rings', 'Star Wars', 'Little Women']\n"
     ]
    }
   ],
   "source": [
    "movies= [\"Intersetllar\",\"Harry Potter\",\"Lord of the Rings\",\"Indiana Jones\",\"Star Wars\"]\n",
    "movies.append(\"Little Women\")\n",
    "movies.remove(\"Indiana Jones\")\n",
    "print(movies)\n"
   ]
  },
  {
   "cell_type": "code",
   "execution_count": 16,
   "id": "ecb9fd26-87f2-415f-abec-2daa98ad70f1",
   "metadata": {},
   "outputs": [
    {
     "name": "stdout",
     "output_type": "stream",
     "text": [
      "10\n",
      "9\n",
      "8\n",
      "7\n",
      "6\n",
      "5\n",
      "4\n",
      "3\n",
      "2\n",
      "1\n"
     ]
    }
   ],
   "source": [
    "x=10\n",
    "while x>0:\n",
    "    print(x)\n",
    "    x-=1\n",
    "\n",
    "    "
   ]
  },
  {
   "cell_type": "code",
   "execution_count": 19,
   "id": "45460f66-f63d-41ba-943a-ba8432ed616d",
   "metadata": {},
   "outputs": [
    {
     "name": "stdout",
     "output_type": "stream",
     "text": [
      "Italy\n",
      "Roma\n",
      "200000000\n"
     ]
    }
   ],
   "source": [
    "country={\"name\":\"Italy\",\"capital\":\"Roma\",\"population\":200000000}\n",
    "print(country[\"name\"])\n",
    "print(country[\"capital\"])\n",
    "print(country[\"population\"])\n",
    "      "
   ]
  },
  {
   "cell_type": "code",
   "execution_count": 51,
   "id": "36e4ee9e-a4ce-4487-a7bd-d93661facfeb",
   "metadata": {},
   "outputs": [
    {
     "name": "stdout",
     "output_type": "stream",
     "text": [
      "Hello, Welcome to Python!\n",
      "\n"
     ]
    },
    {
     "data": {
      "text/plain": [
       "<function TextIOWrapper.close()>"
      ]
     },
     "execution_count": 51,
     "metadata": {},
     "output_type": "execute_result"
    }
   ],
   "source": [
    "file = open(\"example.txt\",\"r\")\n",
    "content = file.read()\n",
    "print(content)\n",
    "file.close"
   ]
  },
  {
   "cell_type": "code",
   "execution_count": 72,
   "id": "83180da8-e2a0-474c-aa28-8fd58bc634e0",
   "metadata": {},
   "outputs": [],
   "source": [
    "file = open(\"example.txt\",\"w\")\n",
    "file.write(\"\\n Hello and welcome to Python!!!\")\n",
    "\n",
    "file.close()\n"
   ]
  },
  {
   "cell_type": "code",
   "execution_count": 73,
   "id": "5faa3e51-a247-44b5-b028-e455f0bbd991",
   "metadata": {},
   "outputs": [
    {
     "name": "stdout",
     "output_type": "stream",
     "text": [
      "\n",
      " Hello and welcome to Python!!!\n"
     ]
    }
   ],
   "source": [
    "file = open(\"example.txt\",\"r\")\n",
    "content = file.read()\n",
    "print(content)\n",
    "file.close()"
   ]
  },
  {
   "cell_type": "code",
   "execution_count": 77,
   "id": "63ddb0d7-1038-4f20-8e6b-eef6a967a4ba",
   "metadata": {},
   "outputs": [],
   "source": [
    "file = open(\"example.txt\",\"a\")\n",
    "file.write(\"\\nHope you enjoy\")\n",
    "file.close()\n"
   ]
  },
  {
   "cell_type": "code",
   "execution_count": 78,
   "id": "fde1be0f-ea25-482a-95a7-d56855590a72",
   "metadata": {},
   "outputs": [
    {
     "name": "stdout",
     "output_type": "stream",
     "text": [
      "\n",
      " Hello and welcome to Python!!!\n",
      "        Lets get started\n",
      "\n",
      "Hope you enjoy\n"
     ]
    }
   ],
   "source": [
    "file = open(\"example.txt\",\"r\")\n",
    "content = file.read()\n",
    "print(content)\n",
    "file.close()"
   ]
  },
  {
   "cell_type": "code",
   "execution_count": 84,
   "id": "5a12596a-7134-4788-93ee-db3d3a194120",
   "metadata": {},
   "outputs": [
    {
     "name": "stdout",
     "output_type": "stream",
     "text": [
      "\n",
      "Hello and welcome to Python!!!\n",
      "Lets get started\n",
      "\n",
      "Hope you enjoy\n"
     ]
    }
   ],
   "source": [
    "file = open(\"example.txt\", \"r\")\n",
    "for line in file:\n",
    "    print(line.strip())  # Remove extra spaces/newlines\n",
    "file.close()"
   ]
  },
  {
   "cell_type": "code",
   "execution_count": 64,
   "id": "e99b8511-006c-489c-b322-cc02a6e0ab59",
   "metadata": {},
   "outputs": [
    {
     "name": "stdout",
     "output_type": "stream",
     "text": [
      "\n",
      " Hello and welcome to Python!!!\n",
      " I hope you enjoy our lessons.\n"
     ]
    }
   ],
   "source": [
    "with open(\"example.txt\", \"r\") as file:\n",
    "    content = file.read()\n",
    "    print(content)\n"
   ]
  },
  {
   "cell_type": "code",
   "execution_count": 85,
   "id": "44436994-02ad-49e6-b413-50bad8d8ba28",
   "metadata": {},
   "outputs": [
    {
     "name": "stdin",
     "output_type": "stream",
     "text": [
      "Enter a number:  4\n"
     ]
    },
    {
     "name": "stdout",
     "output_type": "stream",
     "text": [
      "2.5\n"
     ]
    }
   ],
   "source": [
    "num = int(input(\"Enter a number: \"))\n",
    "print(10 / num)"
   ]
  },
  {
   "cell_type": "code",
   "execution_count": 86,
   "id": "f5c15d64-d7c9-46f2-b335-526d56fd1b9a",
   "metadata": {},
   "outputs": [
    {
     "name": "stdin",
     "output_type": "stream",
     "text": [
      "Enter a number:  0\n"
     ]
    },
    {
     "name": "stdout",
     "output_type": "stream",
     "text": [
      "Cannot divide by 0\n"
     ]
    }
   ],
   "source": [
    "try:\n",
    "    num = int(input(\"Enter a number: \"))\n",
    "    print(10 / num) \n",
    "except ValueError:\n",
    "    print(\"Invalid Input\")\n",
    "except ZeroDivisionError:\n",
    "    print(\"Cannot divide by 0\")\n"
   ]
  },
  {
   "cell_type": "code",
   "execution_count": 87,
   "id": "bf081974-e5c7-4ce8-b8a2-aae27a566465",
   "metadata": {},
   "outputs": [
    {
     "name": "stdout",
     "output_type": "stream",
     "text": [
      "File not found!\n"
     ]
    }
   ],
   "source": [
    "try:\n",
    "    file = open(\"sample.txt\", \"r\")\n",
    "    content = file.read()\n",
    "except FileNotFoundError:\n",
    "    print(\"File not found!\")\n",
    "finally:\n",
    "    file.close()  \n",
    "\n"
   ]
  },
  {
   "cell_type": "code",
   "execution_count": 88,
   "id": "043715c2-66a7-489f-a265-3ce9862e1c59",
   "metadata": {},
   "outputs": [
    {
     "name": "stdout",
     "output_type": "stream",
     "text": [
      "Error: division by zero\n"
     ]
    }
   ],
   "source": [
    "try:\n",
    "    x = 1 / 0\n",
    "except Exception as e:\n",
    "    print(f\"Error: {e}\")\n"
   ]
  },
  {
   "cell_type": "code",
   "execution_count": 92,
   "id": "ac3ea775-ab48-4b73-9658-f72d36e7027e",
   "metadata": {},
   "outputs": [
    {
     "name": "stdout",
     "output_type": "stream",
     "text": [
      "2023 McLaren P1\n",
      "2025 Ferrari La Ferrari\n"
     ]
    }
   ],
   "source": [
    "#Defining a class\n",
    "class Car:\n",
    "    def __init__(self, brand, model, year):\n",
    "        self.brand = brand\n",
    "        self.model = model\n",
    "        self.year = year\n",
    "\n",
    "    def display_info(self):\n",
    "        return f\"{self.year} {self.brand} {self.model}\"\n",
    "\n",
    "# Creating an object\n",
    "my_car = Car(\"McLaren\", \"P1\", 2023)\n",
    "my_car2 =Car(\"Ferrari\",\"La Ferrari\",2025)\n",
    "print(my_car.display_info()) \n",
    "print(my_car2.display_info())"
   ]
  },
  {
   "cell_type": "code",
   "execution_count": 95,
   "id": "00781464-6995-4602-8251-a0c84b4df402",
   "metadata": {},
   "outputs": [
    {
     "name": "stdout",
     "output_type": "stream",
     "text": [
      "2023 McLaren P1 1\n",
      "2025 Ferrari La Ferrari 2\n"
     ]
    }
   ],
   "source": [
    "#Defining a class\n",
    "class Car:\n",
    "    Dealer = \"AutoNation\" #class variable\n",
    "    def __init__(self, engine_number,brand, model, year):\n",
    "        self.engine_number = engine_number #instance variable\n",
    "        self.brand = brand\n",
    "        self.model = model\n",
    "        self.year = year\n",
    "\n",
    "    def display_info(self):\n",
    "        return f\"{self.year} {self.brand} {self.model} {self.engine_number}\"\n",
    "\n",
    "# Creating an object\n",
    "my_car = Car(1,\"McLaren\", \"P1\", 2023)\n",
    "my_car2 =Car(2,\"Ferrari\",\"La Ferrari\",2025)\n",
    "print(my_car.display_info())\n",
    "print(my_car2.display_info())"
   ]
  },
  {
   "cell_type": "code",
   "execution_count": 102,
   "id": "41291bdf-0f23-431d-ad9f-ea70b3746952",
   "metadata": {},
   "outputs": [
    {
     "name": "stdout",
     "output_type": "stream",
     "text": [
      "1500\n"
     ]
    },
    {
     "ename": "AttributeError",
     "evalue": "'BankAccount' object has no attribute '__balance'",
     "output_type": "error",
     "traceback": [
      "\u001b[1;31m---------------------------------------------------------------------------\u001b[0m",
      "\u001b[1;31mAttributeError\u001b[0m                            Traceback (most recent call last)",
      "Cell \u001b[1;32mIn[102], line 14\u001b[0m\n\u001b[0;32m     12\u001b[0m account\u001b[38;5;241m.\u001b[39mdeposit(\u001b[38;5;241m500\u001b[39m)\n\u001b[0;32m     13\u001b[0m \u001b[38;5;28mprint\u001b[39m(account\u001b[38;5;241m.\u001b[39mget_balance())  \u001b[38;5;66;03m# Output: 1500  \u001b[39;00m\n\u001b[1;32m---> 14\u001b[0m \u001b[38;5;28mprint\u001b[39m(\u001b[43maccount\u001b[49m\u001b[38;5;241;43m.\u001b[39;49m\u001b[43m__balance\u001b[49m)\n",
      "\u001b[1;31mAttributeError\u001b[0m: 'BankAccount' object has no attribute '__balance'"
     ]
    }
   ],
   "source": [
    "class BankAccount:\n",
    "    def __init__(self, balance):\n",
    "        self.__balance = balance  # Private variable\n",
    "\n",
    "    def deposit(self, amount):\n",
    "        self.__balance += amount\n",
    "\n",
    "    def get_balance(self):\n",
    "        return self.__balance  # Can only access via method\n",
    "\n",
    "account = BankAccount(1000)\n",
    "account.deposit(500)\n",
    "print(account.get_balance())  # Output: 1500  \n",
    "print(account.__balance)"
   ]
  },
  {
   "cell_type": "code",
   "execution_count": null,
   "id": "e2067e60-a692-4e44-a686-e702f1f648ff",
   "metadata": {},
   "outputs": [],
   "source": []
  }
 ],
 "metadata": {
  "kernelspec": {
   "display_name": "Python 3 (ipykernel)",
   "language": "python",
   "name": "python3"
  },
  "language_info": {
   "codemirror_mode": {
    "name": "ipython",
    "version": 3
   },
   "file_extension": ".py",
   "mimetype": "text/x-python",
   "name": "python",
   "nbconvert_exporter": "python",
   "pygments_lexer": "ipython3",
   "version": "3.13.2"
  }
 },
 "nbformat": 4,
 "nbformat_minor": 5
}
