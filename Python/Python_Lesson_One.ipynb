{
 "cells": [
  {
   "cell_type": "code",
   "execution_count": 1,
   "id": "3cdabc36-cf5e-448f-ab4e-e511759d1ba3",
   "metadata": {},
   "outputs": [
    {
     "name": "stdout",
     "output_type": "stream",
     "text": [
      "Hello, Python!\n"
     ]
    }
   ],
   "source": [
    "print(\"Hello, Python!\") "
   ]
  },
  {
   "cell_type": "code",
   "execution_count": 7,
   "id": "3f640055-d2a4-41b8-b253-71fbd677c3ae",
   "metadata": {},
   "outputs": [
    {
     "name": "stdout",
     "output_type": "stream",
     "text": [
      "my name is Isuri and my age is 31\n",
      "my name is Isuri\n"
     ]
    }
   ],
   "source": [
    "name = 'Isuri'\n",
    "age = 31\n",
    "print(f\"my name is {name} and my age is {age}\")\n",
    "print(\"my name is \"+name)"
   ]
  },
  {
   "cell_type": "code",
   "execution_count": 8,
   "id": "6c224568-ba5a-4ba8-a2d1-8fb516922fbd",
   "metadata": {},
   "outputs": [
    {
     "name": "stdout",
     "output_type": "stream",
     "text": [
      "15\n",
      "5\n",
      "50\n",
      "2.0\n"
     ]
    }
   ],
   "source": [
    "a=10\n",
    "b=5\n",
    "\n",
    "print(a+b)\n",
    "print(a-b)\n",
    "print(a*b)\n",
    "print(a/b)\n"
   ]
  },
  {
   "cell_type": "code",
   "execution_count": 9,
   "id": "40d18380-d4e8-4a47-8178-92291e8d9f69",
   "metadata": {},
   "outputs": [
    {
     "name": "stdout",
     "output_type": "stream",
     "text": [
      "2\n",
      "0\n",
      "100000\n"
     ]
    }
   ],
   "source": [
    "a=10\n",
    "b=5\n",
    "\n",
    "print(a//b) #floor division\n",
    "print(a%b) #modulus\n",
    "print(a**b) #Exponentiation. a to the power of b\n"
   ]
  },
  {
   "cell_type": "code",
   "execution_count": 12,
   "id": "d8e99d9d-ef33-4bcc-b4a4-d7da51e250ae",
   "metadata": {},
   "outputs": [
    {
     "name": "stdout",
     "output_type": "stream",
     "text": [
      "10\n",
      "5\n"
     ]
    }
   ],
   "source": [
    "#Assignment operators\n",
    "a=5\n",
    "a+=5\n",
    "print(a)\n",
    "a-=5\n",
    "print(a)"
   ]
  },
  {
   "cell_type": "code",
   "execution_count": 13,
   "id": "05abb1f1-60fd-41dc-a614-681d7adef234",
   "metadata": {},
   "outputs": [
    {
     "name": "stdout",
     "output_type": "stream",
     "text": [
      "True\n",
      "False\n"
     ]
    }
   ],
   "source": [
    "#Comparison operators\n",
    "print(10>5)\n",
    "print(3==4)"
   ]
  },
  {
   "cell_type": "code",
   "execution_count": 14,
   "id": "98db8597-bfac-45b6-a202-bce6f655cd5b",
   "metadata": {},
   "outputs": [
    {
     "name": "stdout",
     "output_type": "stream",
     "text": [
      "False\n",
      "True\n"
     ]
    },
    {
     "data": {
      "text/plain": [
       "False"
      ]
     },
     "execution_count": 14,
     "metadata": {},
     "output_type": "execute_result"
    }
   ],
   "source": [
    "#Logical operators\n",
    "x=True\n",
    "y=False\n",
    "\n",
    "print(x and y)\n",
    "print(x or y)\n",
    "not(x)\n",
    "\n"
   ]
  },
  {
   "cell_type": "code",
   "execution_count": 16,
   "id": "8524fc46-6599-4a13-bbb4-585959dea725",
   "metadata": {},
   "outputs": [
    {
     "name": "stdout",
     "output_type": "stream",
     "text": [
      "You are an Adult\n"
     ]
    }
   ],
   "source": [
    "age =20\n",
    "if(age>18):\n",
    "    print('You are an Adult')\n",
    "else:\n",
    "    print('You are a minor')"
   ]
  },
  {
   "cell_type": "code",
   "execution_count": 19,
   "id": "1b1e2f53-e72b-4231-8407-07961d92e810",
   "metadata": {},
   "outputs": [
    {
     "name": "stdin",
     "output_type": "stream",
     "text": [
      "Enter your age:  18\n"
     ]
    },
    {
     "name": "stdout",
     "output_type": "stream",
     "text": [
      "You just became and Adult\n"
     ]
    }
   ],
   "source": [
    "age = int(input('Enter your age: '))\n",
    "if(age>18):\n",
    "    print('You are an Adult')\n",
    "elif(age==18):\n",
    "    print('You just became an Adult')\n",
    "else:\n",
    "    print('You are a minor')"
   ]
  },
  {
   "cell_type": "code",
   "execution_count": 22,
   "id": "8a25ce81-465f-4c47-ad35-92a485411368",
   "metadata": {},
   "outputs": [
    {
     "name": "stdout",
     "output_type": "stream",
     "text": [
      "Iteration 0\n",
      "Iteration 1\n",
      "Iteration 2\n",
      "Iteration 3\n",
      "Iteration 4\n"
     ]
    }
   ],
   "source": [
    "for i in range(5):\n",
    "    print(\"Iteration\", i)"
   ]
  },
  {
   "cell_type": "code",
   "execution_count": 23,
   "id": "721b30d7-1b86-47e0-97f6-598b8e904086",
   "metadata": {},
   "outputs": [
    {
     "name": "stdout",
     "output_type": "stream",
     "text": [
      "Count is 0\n",
      "Count is 1\n",
      "Count is 2\n",
      "Count is 3\n",
      "Count is 4\n"
     ]
    }
   ],
   "source": [
    "count = 0\n",
    "while count < 5:\n",
    "    print(\"Count is\", count)\n",
    "    count += 1"
   ]
  },
  {
   "cell_type": "code",
   "execution_count": 24,
   "id": "ee248849-8902-486f-8724-778c50af1ef7",
   "metadata": {},
   "outputs": [
    {
     "name": "stdout",
     "output_type": "stream",
     "text": [
      "50\n"
     ]
    }
   ],
   "source": [
    "#Task one. Write a program to calculate the area of a rectangle.\n",
    "length = 10\n",
    "width = 5\n",
    "\n",
    "Area=length*width\n",
    "print(Area)"
   ]
  },
  {
   "cell_type": "code",
   "execution_count": 28,
   "id": "bb042e5f-2c01-4433-a251-07e93ed51760",
   "metadata": {},
   "outputs": [
    {
     "name": "stdin",
     "output_type": "stream",
     "text": [
      "Please enter a number  189\n"
     ]
    },
    {
     "name": "stdout",
     "output_type": "stream",
     "text": [
      "Its an odd number\n"
     ]
    }
   ],
   "source": [
    "#Task two. Write a program that determines if a number is even or odd.\n",
    "number = int(input('Please enter a number '))\n",
    "if(number%2==0):\n",
    "    print('Its an even number')\n",
    "else:\n",
    "    print('Its an odd number')\n"
   ]
  },
  {
   "cell_type": "code",
   "execution_count": 38,
   "id": "3dedcc97-3423-4e3a-806b-9397a6a7804e",
   "metadata": {},
   "outputs": [
    {
     "name": "stdin",
     "output_type": "stream",
     "text": [
      "Please enter a number  45\n"
     ]
    },
    {
     "name": "stdout",
     "output_type": "stream",
     "text": [
      "try again\n"
     ]
    }
   ],
   "source": [
    "import random as rn\n",
    "\n",
    "#Task three. Create a small guessing game using if statements and input().\n",
    "number = int(input('Please enter a number '))\n",
    "def randint():\n",
    "    num = rn.randint(0,100)\n",
    "    return num\n",
    "\n",
    "number2 = randint()\n",
    "\n",
    "if(number==number2):\n",
    "    print('You win')\n",
    "else:\n",
    "    print('try again')\n"
   ]
  },
  {
   "cell_type": "code",
   "execution_count": null,
   "id": "4ca92817-b640-4edc-851e-f9fc7ddc7577",
   "metadata": {},
   "outputs": [],
   "source": []
  }
 ],
 "metadata": {
  "kernelspec": {
   "display_name": "Python 3 (ipykernel)",
   "language": "python",
   "name": "python3"
  },
  "language_info": {
   "codemirror_mode": {
    "name": "ipython",
    "version": 3
   },
   "file_extension": ".py",
   "mimetype": "text/x-python",
   "name": "python",
   "nbconvert_exporter": "python",
   "pygments_lexer": "ipython3",
   "version": "3.13.2"
  }
 },
 "nbformat": 4,
 "nbformat_minor": 5
}
